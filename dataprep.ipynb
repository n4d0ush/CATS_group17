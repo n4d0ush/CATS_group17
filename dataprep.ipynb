{
 "cells": [
  {
   "cell_type": "code",
   "execution_count": 2,
   "metadata": {},
   "outputs": [
    {
     "data": {
      "text/html": [
       "        <script type=\"text/javascript\">\n",
       "        window.PlotlyConfig = {MathJaxConfig: 'local'};\n",
       "        if (window.MathJax && window.MathJax.Hub && window.MathJax.Hub.Config) {window.MathJax.Hub.Config({SVG: {font: \"STIX-Web\"}});}\n",
       "        if (typeof require !== 'undefined') {\n",
       "        require.undef(\"plotly\");\n",
       "        requirejs.config({\n",
       "            paths: {\n",
       "                'plotly': ['https://cdn.plot.ly/plotly-2.30.0.min']\n",
       "            }\n",
       "        });\n",
       "        require(['plotly'], function(Plotly) {\n",
       "            window._Plotly = Plotly;\n",
       "        });\n",
       "        }\n",
       "        </script>\n",
       "        "
      ]
     },
     "metadata": {},
     "output_type": "display_data"
    }
   ],
   "source": [
    "import pandas as pd\n",
    "import numpy as np\n",
    "import seaborn as sns\n",
    "import matplotlib.pyplot as plt\n",
    "%matplotlib inline\n",
    "import plotly.offline as py\n",
    "py.init_notebook_mode(connected=True)\n",
    "import plotly.graph_objs as go\n",
    "import plotly.tools as tls\n",
    "import warnings\n",
    "from collections import Counter\n",
    "from sklearn.feature_selection import mutual_info_classif\n",
    "warnings.filterwarnings('ignore')\n",
    "import sklearn as sk\n",
    "\n",
    "\n",
    "train_samples = pd.read_table('Train_call.txt')\n",
    "train_labels = pd.read_table('Train_clinical.txt')\n",
    "\n",
    "\n"
   ]
  },
  {
   "cell_type": "markdown",
   "metadata": {},
   "source": [
    "Data exploration:\n",
    "How does or data look and how can we make a classifier out of this data?\n",
    "We have two training datasets, one of which contains the different samples and their copy number change values, and the other one contains our labels that we are interested in predicting. \n",
    "We want to predict if a given sample is Triple negative, HER2+ or HR+. \n",
    "We also have a validation set to select our hyperparameters."
   ]
  },
  {
   "cell_type": "code",
   "execution_count": 3,
   "metadata": {},
   "outputs": [
    {
     "name": "stdout",
     "output_type": "stream",
     "text": [
      "<class 'pandas.core.frame.DataFrame'>\n",
      "RangeIndex: 2834 entries, 0 to 2833\n",
      "Columns: 104 entries, Chromosome to Array.130\n",
      "dtypes: int64(104)\n",
      "memory usage: 2.2 MB\n",
      "None\n",
      "<class 'pandas.core.frame.DataFrame'>\n",
      "RangeIndex: 100 entries, 0 to 99\n",
      "Data columns (total 2 columns):\n",
      " #   Column    Non-Null Count  Dtype \n",
      "---  ------    --------------  ----- \n",
      " 0   Sample    100 non-null    object\n",
      " 1   Subgroup  100 non-null    object\n",
      "dtypes: object(2)\n",
      "memory usage: 1.7+ KB\n",
      "None\n"
     ]
    }
   ],
   "source": [
    "#Shows us the different samples (name = array ...) and in which chromosome and which part of the chromosome \n",
    "#there is positive negative or no copy number change.\n",
    "print(train_samples.info())\n",
    "print(train_labels.info())\n"
   ]
  },
  {
   "cell_type": "code",
   "execution_count": 4,
   "metadata": {},
   "outputs": [
    {
     "name": "stdout",
     "output_type": "stream",
     "text": [
      "   Chromosome   Start     End  Nclone  Array.129  Array.34  Array.67  \\\n",
      "0           1    2927   43870       3          0         0         0   \n",
      "1           1   85022  216735       4          0         0         0   \n",
      "2           1  370546  372295       4          0         0         0   \n",
      "3           1  471671  786483       5          0         0         0   \n",
      "4           1  792533  907406      13          0         0         0   \n",
      "\n",
      "   Array.24  Array.22  Array.36  ...  Array.64  Array.89  Array.30  Array.35  \\\n",
      "0         0         0         0  ...         0         0         1         0   \n",
      "1         0         0         0  ...         0         0         1         0   \n",
      "2         0         0         0  ...         0         0         1         0   \n",
      "3         0         0         0  ...         0         1         1         0   \n",
      "4         0         0         0  ...         0         1         1         0   \n",
      "\n",
      "   Array.93  Array.10  Array.123  Array.100  Array.134  Array.130  \n",
      "0         0         0          0          0         -1          0  \n",
      "1         0         0          0          0         -1          0  \n",
      "2         1         0          0          0         -1          0  \n",
      "3         1         0          0          0         -1          0  \n",
      "4         1         0          0          0         -1          0  \n",
      "\n",
      "[5 rows x 104 columns]\n",
      "      Sample    Subgroup\n",
      "0  Array.129       HER2+\n",
      "1   Array.34         HR+\n",
      "2   Array.67         HR+\n",
      "3   Array.24  Triple Neg\n",
      "4   Array.22  Triple Neg\n",
      "Chromosome    0\n",
      "Start         0\n",
      "End           0\n",
      "Nclone        0\n",
      "Array.129     0\n",
      "             ..\n",
      "Array.10      0\n",
      "Array.123     0\n",
      "Array.100     0\n",
      "Array.134     0\n",
      "Array.130     0\n",
      "Length: 104, dtype: int64\n",
      "Sample      0\n",
      "Subgroup    0\n",
      "dtype: int64\n"
     ]
    }
   ],
   "source": [
    "# Display the first few rows of the data\n",
    "print(train_samples.head())\n",
    "print(train_labels.head())\n",
    "\n",
    "# Check for missing values\n",
    "print(train_samples.isnull().sum())\n",
    "print(train_labels.isnull().sum())"
   ]
  },
  {
   "cell_type": "code",
   "execution_count": 5,
   "metadata": {},
   "outputs": [],
   "source": [
    "#Making the dataframe where all the samples,their aCGH data and their label are present \n",
    "train_samples_transpose = train_samples.T\n",
    "\n",
    "for row_name in train_samples_transpose.index:\n",
    "    for index, row in train_labels.iterrows():\n",
    "        if row_name == row[\"Sample\"]:\n",
    "            train_samples_transpose.at[row_name, \"Subgroup\"] = row[\"Subgroup\"]\n",
    "        else:\n",
    "            continue\n"
   ]
  },
  {
   "cell_type": "code",
   "execution_count": 8,
   "metadata": {},
   "outputs": [],
   "source": [
    "# convert to csv\n",
    "train_samples_transpose.to_csv('train_samples_with_subgroup.txt', sep='\\t', index=True)\n",
    "train_samples_with_subgroup = pd.read_table('train_samples_with_subgroup.txt')"
   ]
  },
  {
   "cell_type": "code",
   "execution_count": 10,
   "metadata": {},
   "outputs": [
    {
     "name": "stdout",
     "output_type": "stream",
     "text": [
      "Subgroup\n",
      "HR+           36\n",
      "HER2+         32\n",
      "Triple Neg    32\n",
      "Name: count, dtype: int64\n"
     ]
    }
   ],
   "source": [
    "#Looking how much of each labels we have\n",
    "label_counts = train_samples_with_subgroup['Subgroup'].value_counts()\n",
    "print(label_counts)\n"
   ]
  },
  {
   "cell_type": "code",
   "execution_count": null,
   "metadata": {},
   "outputs": [],
   "source": []
  }
 ],
 "metadata": {
  "kernelspec": {
   "display_name": "Python 3",
   "language": "python",
   "name": "python3"
  },
  "language_info": {
   "codemirror_mode": {
    "name": "ipython",
    "version": 3
   },
   "file_extension": ".py",
   "mimetype": "text/x-python",
   "name": "python",
   "nbconvert_exporter": "python",
   "pygments_lexer": "ipython3",
   "version": "3.11.1"
  }
 },
 "nbformat": 4,
 "nbformat_minor": 2
}
