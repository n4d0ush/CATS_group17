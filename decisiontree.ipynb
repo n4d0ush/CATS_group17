{
 "cells": [
  {
   "cell_type": "code",
   "execution_count": 14,
   "metadata": {},
   "outputs": [],
   "source": [
    "#Load packages\n",
    "import pandas as pd\n",
    "from sklearn.tree import DecisionTreeClassifier # Import Decision Tree Classifier\n",
    "from sklearn.model_selection import train_test_split # Import train_test_split function\n",
    "from sklearn import metrics #Import scikit-learn metrics module for accuracy calculation\n"
   ]
  },
  {
   "cell_type": "code",
   "execution_count": 15,
   "metadata": {},
   "outputs": [],
   "source": [
    "\n",
    "#For visualization:\n",
    "from sklearn.tree import export_graphviz\n",
    "from io import StringIO \n",
    "from IPython.display import Image  \n",
    "import pydotplus\n",
    "\n"
   ]
  },
  {
   "cell_type": "code",
   "execution_count": 6,
   "metadata": {},
   "outputs": [],
   "source": [
    "#Load data \n",
    "# data = \n",
    "#placeholder\n",
    "X_train, X_test, y_train, y_test = 0, 0, 0, 0"
   ]
  },
  {
   "cell_type": "code",
   "execution_count": 16,
   "metadata": {},
   "outputs": [],
   "source": [
    "#Classifier function \n",
    "def decision_tree_predictor(X_train, y_train, X_test):\n",
    "    decisiontree = DecisionTreeClassifier()\n",
    "\n",
    "    # train Decision Tree Classifer\n",
    "    decisiontree = decisiontree.fit(X_train,y_train)\n",
    "\n",
    "    #Predict the response for test dataset\n",
    "    y_pred = decisiontree.predict(X_test)\n",
    "    return decisiontree, y_pred\n"
   ]
  },
  {
   "cell_type": "code",
   "execution_count": 17,
   "metadata": {},
   "outputs": [],
   "source": [
    "#Determining the accuracy function \n",
    "def decision_tree_accuracy(y_test, y_pred):\n",
    "    # Model Accuracy, how often is the classifier correct?\n",
    "    accuracy = metrics.accuracy_score(y_test, y_pred)\n",
    "    return  accuracy \n"
   ]
  },
  {
   "cell_type": "code",
   "execution_count": 18,
   "metadata": {},
   "outputs": [],
   "source": [
    "#Visualizing the decision tree> optional but i think very useful for the report\n",
    "\n",
    "feature_cols = [] #Placeholder for the features that were selected\n",
    "def visualization_tree(decision_tree):\n",
    "    dot_data = StringIO()\n",
    "    export_graphviz(decision_tree, out_file=dot_data,  \n",
    "                    filled=True, rounded=True,\n",
    "                    special_characters=True,feature_names = feature_cols,class_names=['0','1', '2'])\n",
    "    graph = pydotplus.graph_from_dot_data(dot_data.getvalue())  \n",
    "    graph.write_png('diabetes.png')\n",
    "    Image(graph.create_png())\n",
    "\n"
   ]
  }
 ],
 "metadata": {
  "kernelspec": {
   "display_name": "Python 3",
   "language": "python",
   "name": "python3"
  },
  "language_info": {
   "codemirror_mode": {
    "name": "ipython",
    "version": 3
   },
   "file_extension": ".py",
   "mimetype": "text/x-python",
   "name": "python",
   "nbconvert_exporter": "python",
   "pygments_lexer": "ipython3",
   "version": "3.11.1"
  }
 },
 "nbformat": 4,
 "nbformat_minor": 2
}
